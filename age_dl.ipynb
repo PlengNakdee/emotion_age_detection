{
 "cells": [
  {
   "cell_type": "code",
   "execution_count": 32,
   "metadata": {},
   "outputs": [],
   "source": [
    "import numpy as np\n",
    "import pandas as pd\n",
    "from keras.preprocessing import image\n",
    "from keras.applications.inception_v3 import preprocess_input\n",
    "from keras.utils import to_categorical\n",
    "import h5py\n",
    "import cv2\n",
    "import os\n",
    "from matplotlib import pyplot as plt\n",
    "%matplotlib inline"
   ]
  },
  {
   "cell_type": "code",
   "execution_count": 33,
   "metadata": {},
   "outputs": [],
   "source": [
    "data_dir = 'D:/code/age_data/'\n",
    "num_classes = 10"
   ]
  },
  {
   "cell_type": "code",
   "execution_count": 34,
   "metadata": {},
   "outputs": [],
   "source": [
    "def load_dataset(data_df):\n",
    "    '''Function to load dataset.'''\n",
    "    x = []\n",
    "    y = []\n",
    "    for i, r in data_df.iterrows():\n",
    "        f = os.path.join(data_dir, r['A'])   # filename\n",
    "        c = r['labels']                              # class\n",
    "\n",
    "        # Load and resize the image\n",
    "        img = image.load_img(f, target_size=(150, 150))\n",
    "\n",
    "        # Convert the Image object into a numpy array\n",
    "        img = image.img_to_array(img)\n",
    "\n",
    "        # Add to a list of images and classes\n",
    "        x.append(img)\n",
    "        y.append(c)\n",
    "    x = np.asarray(x)\n",
    "    y = np.asarray(y)\n",
    "    return x, y"
   ]
  },
  {
   "cell_type": "code",
   "execution_count": 35,
   "metadata": {},
   "outputs": [],
   "source": [
    "# Training set\n",
    "train_df = pd.read_csv(os.path.join(data_dir, 'age_train_2.csv'))\n",
    "raw_train_x, raw_train_y = load_dataset(train_df)\n",
    "\n",
    "# Test set\n",
    "test_df = pd.read_csv(os.path.join(data_dir, 'age_test_2.csv'))\n",
    "raw_test_x, raw_test_y = load_dataset(test_df)"
   ]
  },
  {
   "cell_type": "code",
   "execution_count": 36,
   "metadata": {},
   "outputs": [
    {
     "name": "stdout",
     "output_type": "stream",
     "text": [
      "x_train: (13193, 150, 150, 3)\n",
      "x_test: (2638, 150, 150, 3)\n"
     ]
    }
   ],
   "source": [
    "# Preprocess the input array\n",
    "x_train = preprocess_input(raw_train_x)\n",
    "x_test = preprocess_input(raw_test_x)\n",
    "\n",
    "# Convert class data to one-hot format\n",
    "y_train = to_categorical(raw_train_y, num_classes)\n",
    "y_test = to_categorical(raw_test_y, num_classes)\n",
    "\n",
    "# Convert the preprocessing images into `float32`\n",
    "x_train = x_train.astype(np.float32)\n",
    "x_test = x_test.astype(np.float32)\n",
    "\n",
    "# Convert the one-hot vector into `int`\n",
    "y_train = y_train.astype(np.int)\n",
    "y_test = y_test.astype(np.int)\n",
    "\n",
    "print('x_train:', x_train.shape)\n",
    "print('x_test:', x_test.shape)"
   ]
  },
  {
   "cell_type": "code",
   "execution_count": 37,
   "metadata": {},
   "outputs": [
    {
     "data": {
      "text/plain": [
       "(1310, 150, 150, 3)"
      ]
     },
     "execution_count": 37,
     "metadata": {},
     "output_type": "execute_result"
    }
   ],
   "source": [
    "# validation set\n",
    "x_val = x_train[:1310]\n",
    "y_val = y_train[:1310]\n",
    "x_val.shape"
   ]
  },
  {
   "cell_type": "code",
   "execution_count": 38,
   "metadata": {},
   "outputs": [],
   "source": [
    "import tensorflow as tf\n",
    "from tensorflow.keras import layers\n",
    "from tensorflow.keras.layers import *\n",
    "from keras.constraints import maxnorm\n",
    "from keras.optimizers import SGD , Adam"
   ]
  },
  {
   "cell_type": "code",
   "execution_count": 39,
   "metadata": {},
   "outputs": [
    {
     "name": "stdout",
     "output_type": "stream",
     "text": [
      "Model: \"sequential\"\n",
      "_________________________________________________________________\n",
      "Layer (type)                 Output Shape              Param #   \n",
      "=================================================================\n",
      "conv2d (Conv2D)              (None, 150, 150, 64)      1792      \n",
      "_________________________________________________________________\n",
      "batch_normalization (BatchNo (None, 150, 150, 64)      256       \n",
      "_________________________________________________________________\n",
      "max_pooling2d (MaxPooling2D) (None, 75, 75, 64)        0         \n",
      "_________________________________________________________________\n",
      "dropout (Dropout)            (None, 75, 75, 64)        0         \n",
      "_________________________________________________________________\n",
      "conv2d_1 (Conv2D)            (None, 75, 75, 128)       73856     \n",
      "_________________________________________________________________\n",
      "batch_normalization_1 (Batch (None, 75, 75, 128)       512       \n",
      "_________________________________________________________________\n",
      "max_pooling2d_1 (MaxPooling2 (None, 37, 37, 128)       0         \n",
      "_________________________________________________________________\n",
      "dropout_1 (Dropout)          (None, 37, 37, 128)       0         \n",
      "_________________________________________________________________\n",
      "conv2d_2 (Conv2D)            (None, 37, 37, 256)       295168    \n",
      "_________________________________________________________________\n",
      "batch_normalization_2 (Batch (None, 37, 37, 256)       1024      \n",
      "_________________________________________________________________\n",
      "max_pooling2d_2 (MaxPooling2 (None, 18, 18, 256)       0         \n",
      "_________________________________________________________________\n",
      "dropout_2 (Dropout)          (None, 18, 18, 256)       0         \n",
      "_________________________________________________________________\n",
      "conv2d_3 (Conv2D)            (None, 18, 18, 512)       1180160   \n",
      "_________________________________________________________________\n",
      "batch_normalization_3 (Batch (None, 18, 18, 512)       2048      \n",
      "_________________________________________________________________\n",
      "max_pooling2d_3 (MaxPooling2 (None, 9, 9, 512)         0         \n",
      "_________________________________________________________________\n",
      "dropout_3 (Dropout)          (None, 9, 9, 512)         0         \n",
      "_________________________________________________________________\n",
      "conv2d_4 (Conv2D)            (None, 9, 9, 1024)        4719616   \n",
      "_________________________________________________________________\n",
      "batch_normalization_4 (Batch (None, 9, 9, 1024)        4096      \n",
      "_________________________________________________________________\n",
      "max_pooling2d_4 (MaxPooling2 (None, 4, 4, 1024)        0         \n",
      "_________________________________________________________________\n",
      "dropout_4 (Dropout)          (None, 4, 4, 1024)        0         \n",
      "_________________________________________________________________\n",
      "flatten (Flatten)            (None, 16384)             0         \n",
      "_________________________________________________________________\n",
      "dense (Dense)                (None, 64)                1048640   \n",
      "_________________________________________________________________\n",
      "dropout_5 (Dropout)          (None, 64)                0         \n",
      "_________________________________________________________________\n",
      "dense_1 (Dense)              (None, 10)                650       \n",
      "=================================================================\n",
      "Total params: 7,327,818\n",
      "Trainable params: 7,323,850\n",
      "Non-trainable params: 3,968\n",
      "_________________________________________________________________\n"
     ]
    }
   ],
   "source": [
    "model = tf.keras.Sequential()\n",
    "\n",
    "model.add(layers.Conv2D(64, (3, 3), padding='same', activation='elu', input_shape=(150, 150, 3)))\n",
    "model.add(layers.BatchNormalization())\n",
    "model.add(layers.MaxPooling2D(pool_size=(2, 2)))\n",
    "model.add(layers.Dropout(0.2))\n",
    "\n",
    "model.add(layers.Conv2D(128, (3, 3), padding='same', activation='elu'))\n",
    "model.add(layers.BatchNormalization())\n",
    "model.add(layers.MaxPooling2D(pool_size=(2, 2)))\n",
    "model.add(layers.Dropout(0.2))\n",
    "\n",
    "model.add(layers.Conv2D(256, (3, 3), padding='same', activation='elu'))\n",
    "model.add(layers.BatchNormalization())\n",
    "model.add(layers.MaxPooling2D(pool_size=(2, 2)))\n",
    "model.add(layers.Dropout(0.2))\n",
    "\n",
    "model.add(layers.Conv2D(512, (3, 3), padding='same', activation='elu'))\n",
    "model.add(layers.BatchNormalization())\n",
    "model.add(layers.MaxPooling2D(pool_size=(2, 2)))\n",
    "model.add(layers.Dropout(0.2))\n",
    "\n",
    "model.add(layers.Conv2D(1024, (3, 3), padding='same', activation='elu'))\n",
    "model.add(layers.BatchNormalization())\n",
    "model.add(layers.MaxPooling2D(pool_size=(2, 2)))\n",
    "model.add(layers.Dropout(0.2))\n",
    "\n",
    "model.add(layers.Flatten())\n",
    "model.add(layers.Dense(64, activation='relu'))\n",
    "model.add(layers.Dropout(0.2))\n",
    "model.add(layers.Dense(10, activation='softmax'))\n",
    "\n",
    "model.summary()"
   ]
  },
  {
   "cell_type": "code",
   "execution_count": 40,
   "metadata": {},
   "outputs": [],
   "source": [
    "batch_size = 32\n",
    "epochs = 30\n",
    "\n",
    "callback = tf.keras.callbacks.EarlyStopping(monitor='accuracy', patience=2)\n",
    "model.compile(optimizer=tf.keras.optimizers.Adam(lr=0.0001),\n",
    "             loss=tf.keras.losses.categorical_crossentropy,\n",
    "             metrics=['accuracy'])"
   ]
  },
  {
   "cell_type": "code",
   "execution_count": 41,
   "metadata": {},
   "outputs": [
    {
     "name": "stdout",
     "output_type": "stream",
     "text": [
      "Train on 13193 samples, validate on 1310 samples\n",
      "Epoch 1/30\n",
      "13184/13193 [============================>.] - ETA: 0s - loss: 1.8245 - accuracy: 0.3558WARNING:tensorflow:Early stopping conditioned on metric `acc` which is not available. Available metrics are: loss,accuracy,val_loss,val_accuracy\n",
      "13184/13193 [============================>.] - ETA: 0s - loss: 1.8245 - accuracy: 0.3558 - val_loss: 0.0000e+00 - val_accuracy: 0.0000e+00Epoch 2/30\n",
      "13161/13193 [============================>.] - ETA: 0s - loss: 1.5925 - accuracy: 0.4117WARNING:tensorflow:Early stopping conditioned on metric `acc` which is not available. Available metrics are: loss,accuracy,val_loss,val_accuracy\n",
      "13161/13193 [============================>.] - ETA: 0s - loss: 1.5925 - accuracy: 0.4117 - val_loss: 0.0000e+00 - val_accuracy: 0.0000e+00Epoch 3/30\n",
      "13161/13193 [============================>.] - ETA: 0s - loss: 1.4734 - accuracy: 0.4500WARNING:tensorflow:Early stopping conditioned on metric `acc` which is not available. Available metrics are: loss,accuracy,val_loss,val_accuracy\n",
      "13161/13193 [============================>.] - ETA: 0s - loss: 1.4734 - accuracy: 0.4500 - val_loss: 0.0000e+00 - val_accuracy: 0.0000e+00Epoch 4/30\n",
      "13161/13193 [============================>.] - ETA: 0s - loss: 1.3955 - accuracy: 0.4736WARNING:tensorflow:Early stopping conditioned on metric `acc` which is not available. Available metrics are: loss,accuracy,val_loss,val_accuracy\n",
      "13161/13193 [============================>.] - ETA: 0s - loss: 1.3955 - accuracy: 0.4736 - val_loss: 0.0000e+00 - val_accuracy: 0.0000e+00Epoch 5/30\n",
      "13161/13193 [============================>.] - ETA: 0s - loss: 1.3250 - accuracy: 0.4942WARNING:tensorflow:Early stopping conditioned on metric `acc` which is not available. Available metrics are: loss,accuracy,val_loss,val_accuracy\n",
      "13161/13193 [============================>.] - ETA: 0s - loss: 1.3250 - accuracy: 0.4942 - val_loss: 0.0000e+00 - val_accuracy: 0.0000e+00Epoch 6/30\n",
      "13161/13193 [============================>.] - ETA: 0s - loss: 1.2741 - accuracy: 0.5098WARNING:tensorflow:Early stopping conditioned on metric `acc` which is not available. Available metrics are: loss,accuracy,val_loss,val_accuracy\n",
      "13161/13193 [============================>.] - ETA: 0s - loss: 1.2741 - accuracy: 0.5098 - val_loss: 0.0000e+00 - val_accuracy: 0.0000e+00Epoch 7/30\n",
      "13161/13193 [============================>.] - ETA: 0s - loss: 1.2230 - accuracy: 0.5208WARNING:tensorflow:Early stopping conditioned on metric `acc` which is not available. Available metrics are: loss,accuracy,val_loss,val_accuracy\n",
      "13161/13193 [============================>.] - ETA: 0s - loss: 1.2230 - accuracy: 0.5208 - val_loss: 0.0000e+00 - val_accuracy: 0.0000e+00Epoch 8/30\n",
      "13161/13193 [============================>.] - ETA: 0s - loss: 1.1856 - accuracy: 0.5279WARNING:tensorflow:Early stopping conditioned on metric `acc` which is not available. Available metrics are: loss,accuracy,val_loss,val_accuracy\n",
      "13161/13193 [============================>.] - ETA: 0s - loss: 1.1856 - accuracy: 0.5279 - val_loss: 0.0000e+00 - val_accuracy: 0.0000e+00Epoch 9/30\n",
      "13161/13193 [============================>.] - ETA: 0s - loss: 1.1518 - accuracy: 0.5361WARNING:tensorflow:Early stopping conditioned on metric `acc` which is not available. Available metrics are: loss,accuracy,val_loss,val_accuracy\n",
      "13161/13193 [============================>.] - ETA: 0s - loss: 1.1518 - accuracy: 0.5361 - val_loss: 0.0000e+00 - val_accuracy: 0.0000e+00Epoch 10/30\n",
      "13161/13193 [============================>.] - ETA: 0s - loss: 1.0925 - accuracy: 0.5579WARNING:tensorflow:Early stopping conditioned on metric `acc` which is not available. Available metrics are: loss,accuracy,val_loss,val_accuracy\n",
      "13161/13193 [============================>.] - ETA: 0s - loss: 1.0925 - accuracy: 0.5579 - val_loss: 0.0000e+00 - val_accuracy: 0.0000e+00Epoch 11/30\n",
      "13161/13193 [============================>.] - ETA: 0s - loss: 1.0489 - accuracy: 0.5708WARNING:tensorflow:Early stopping conditioned on metric `acc` which is not available. Available metrics are: loss,accuracy,val_loss,val_accuracy\n",
      "13161/13193 [============================>.] - ETA: 0s - loss: 1.0489 - accuracy: 0.5708 - val_loss: 0.0000e+00 - val_accuracy: 0.0000e+00Epoch 12/30\n",
      "13161/13193 [============================>.] - ETA: 0s - loss: 1.0031 - accuracy: 0.5804WARNING:tensorflow:Early stopping conditioned on metric `acc` which is not available. Available metrics are: loss,accuracy,val_loss,val_accuracy\n",
      "13161/13193 [============================>.] - ETA: 0s - loss: 1.0031 - accuracy: 0.5804 - val_loss: 0.0000e+00 - val_accuracy: 0.0000e+00Epoch 13/30\n",
      "13161/13193 [============================>.] - ETA: 0s - loss: 0.9632 - accuracy: 0.5975WARNING:tensorflow:Early stopping conditioned on metric `acc` which is not available. Available metrics are: loss,accuracy,val_loss,val_accuracy\n",
      "13161/13193 [============================>.] - ETA: 0s - loss: 0.9632 - accuracy: 0.5975 - val_loss: 0.0000e+00 - val_accuracy: 0.0000e+00Epoch 14/30\n",
      "13161/13193 [============================>.] - ETA: 0s - loss: 0.9297 - accuracy: 0.6149WARNING:tensorflow:Early stopping conditioned on metric `acc` which is not available. Available metrics are: loss,accuracy,val_loss,val_accuracy\n",
      "13161/13193 [============================>.] - ETA: 0s - loss: 0.9297 - accuracy: 0.6149 - val_loss: 0.0000e+00 - val_accuracy: 0.0000e+00Epoch 15/30\n",
      "13161/13193 [============================>.] - ETA: 0s - loss: 0.8661 - accuracy: 0.6337WARNING:tensorflow:Early stopping conditioned on metric `acc` which is not available. Available metrics are: loss,accuracy,val_loss,val_accuracy\n",
      "13161/13193 [============================>.] - ETA: 0s - loss: 0.8661 - accuracy: 0.6337 - val_loss: 0.0000e+00 - val_accuracy: 0.0000e+00Epoch 16/30\n",
      "13161/13193 [============================>.] - ETA: 0s - loss: 0.8344 - accuracy: 0.6437WARNING:tensorflow:Early stopping conditioned on metric `acc` which is not available. Available metrics are: loss,accuracy,val_loss,val_accuracy\n",
      "13161/13193 [============================>.] - ETA: 0s - loss: 0.8344 - accuracy: 0.6437 - val_loss: 0.0000e+00 - val_accuracy: 0.0000e+00Epoch 17/30\n",
      "13161/13193 [============================>.] - ETA: 0s - loss: 0.8029 - accuracy: 0.6667WARNING:tensorflow:Early stopping conditioned on metric `acc` which is not available. Available metrics are: loss,accuracy,val_loss,val_accuracy\n",
      "13161/13193 [============================>.] - ETA: 0s - loss: 0.8029 - accuracy: 0.6667 - val_loss: 0.0000e+00 - val_accuracy: 0.0000e+00Epoch 18/30\n",
      "13161/13193 [============================>.] - ETA: 0s - loss: 0.7617 - accuracy: 0.6780WARNING:tensorflow:Early stopping conditioned on metric `acc` which is not available. Available metrics are: loss,accuracy,val_loss,val_accuracy\n",
      "13161/13193 [============================>.] - ETA: 0s - loss: 0.7617 - accuracy: 0.6780 - val_loss: 0.0000e+00 - val_accuracy: 0.0000e+00Epoch 19/30\n",
      "13161/13193 [============================>.] - ETA: 0s - loss: 0.7263 - accuracy: 0.6954WARNING:tensorflow:Early stopping conditioned on metric `acc` which is not available. Available metrics are: loss,accuracy,val_loss,val_accuracy\n",
      "13161/13193 [============================>.] - ETA: 0s - loss: 0.7263 - accuracy: 0.6954 - val_loss: 0.0000e+00 - val_accuracy: 0.0000e+00Epoch 20/30\n",
      "13161/13193 [============================>.] - ETA: 0s - loss: 0.6803 - accuracy: 0.7138WARNING:tensorflow:Early stopping conditioned on metric `acc` which is not available. Available metrics are: loss,accuracy,val_loss,val_accuracy\n",
      "13161/13193 [============================>.] - ETA: 0s - loss: 0.6803 - accuracy: 0.7138 - val_loss: 0.0000e+00 - val_accuracy: 0.0000e+00Epoch 21/30\n",
      "13161/13193 [============================>.] - ETA: 0s - loss: 0.6463 - accuracy: 0.7317WARNING:tensorflow:Early stopping conditioned on metric `acc` which is not available. Available metrics are: loss,accuracy,val_loss,val_accuracy\n",
      "13161/13193 [============================>.] - ETA: 0s - loss: 0.6463 - accuracy: 0.7317 - val_loss: 0.0000e+00 - val_accuracy: 0.0000e+00Epoch 22/30\n",
      "13161/13193 [============================>.] - ETA: 0s - loss: 0.6154 - accuracy: 0.7487WARNING:tensorflow:Early stopping conditioned on metric `acc` which is not available. Available metrics are: loss,accuracy,val_loss,val_accuracy\n"
     ]
    },
    {
     "name": "stdout",
     "output_type": "stream",
     "text": [
      "13161/13193 [============================>.] - ETA: 0s - loss: 0.6154 - accuracy: 0.7487 - val_loss: 0.0000e+00 - val_accuracy: 0.0000e+00Epoch 23/30\n",
      "13161/13193 [============================>.] - ETA: 0s - loss: 0.5796 - accuracy: 0.7613WARNING:tensorflow:Early stopping conditioned on metric `acc` which is not available. Available metrics are: loss,accuracy,val_loss,val_accuracy\n",
      "13161/13193 [============================>.] - ETA: 0s - loss: 0.5796 - accuracy: 0.7613 - val_loss: 0.0000e+00 - val_accuracy: 0.0000e+00Epoch 24/30\n",
      "13161/13193 [============================>.] - ETA: 0s - loss: 0.5583 - accuracy: 0.7692WARNING:tensorflow:Early stopping conditioned on metric `acc` which is not available. Available metrics are: loss,accuracy,val_loss,val_accuracy\n",
      "13161/13193 [============================>.] - ETA: 0s - loss: 0.5583 - accuracy: 0.7692 - val_loss: 0.0000e+00 - val_accuracy: 0.0000e+00Epoch 25/30\n",
      "13161/13193 [============================>.] - ETA: 0s - loss: 0.5182 - accuracy: 0.7850WARNING:tensorflow:Early stopping conditioned on metric `acc` which is not available. Available metrics are: loss,accuracy,val_loss,val_accuracy\n",
      "13161/13193 [============================>.] - ETA: 0s - loss: 0.5182 - accuracy: 0.7850 - val_loss: 0.0000e+00 - val_accuracy: 0.0000e+00Epoch 26/30\n",
      "13161/13193 [============================>.] - ETA: 0s - loss: 0.4883 - accuracy: 0.7993WARNING:tensorflow:Early stopping conditioned on metric `acc` which is not available. Available metrics are: loss,accuracy,val_loss,val_accuracy\n",
      "13161/13193 [============================>.] - ETA: 0s - loss: 0.4883 - accuracy: 0.7993 - val_loss: 0.0000e+00 - val_accuracy: 0.0000e+00Epoch 27/30\n",
      "13161/13193 [============================>.] - ETA: 0s - loss: 0.4639 - accuracy: 0.8103WARNING:tensorflow:Early stopping conditioned on metric `acc` which is not available. Available metrics are: loss,accuracy,val_loss,val_accuracy\n",
      "13161/13193 [============================>.] - ETA: 0s - loss: 0.4639 - accuracy: 0.8103 - val_loss: 0.0000e+00 - val_accuracy: 0.0000e+00Epoch 28/30\n",
      "13161/13193 [============================>.] - ETA: 0s - loss: 0.4390 - accuracy: 0.8220WARNING:tensorflow:Early stopping conditioned on metric `acc` which is not available. Available metrics are: loss,accuracy,val_loss,val_accuracy\n",
      "13161/13193 [============================>.] - ETA: 0s - loss: 0.4390 - accuracy: 0.8220 - val_loss: 0.0000e+00 - val_accuracy: 0.0000e+00Epoch 29/30\n",
      "13161/13193 [============================>.] - ETA: 0s - loss: 0.4216 - accuracy: 0.8309WARNING:tensorflow:Early stopping conditioned on metric `acc` which is not available. Available metrics are: loss,accuracy,val_loss,val_accuracy\n",
      "13161/13193 [============================>.] - ETA: 0s - loss: 0.4216 - accuracy: 0.8309 - val_loss: 0.0000e+00 - val_accuracy: 0.0000e+00Epoch 30/30\n",
      "13161/13193 [============================>.] - ETA: 0s - loss: 0.3787 - accuracy: 0.8467WARNING:tensorflow:Early stopping conditioned on metric `acc` which is not available. Available metrics are: loss,accuracy,val_loss,val_accuracy\n",
      "13161/13193 [============================>.] - ETA: 0s - loss: 0.3787 - accuracy: 0.8467 - val_loss: 0.0000e+00 - val_accuracy: 0.0000e+00"
     ]
    }
   ],
   "source": [
    "history = model.fit(x_train, y_train, batch_size=batch_size,\n",
    "                    steps_per_epoch=x_train.shape[0] // batch_size,\n",
    "                    validation_data=(x_val, y_val),\n",
    "                    callbacks=[callback],\n",
    "                    epochs=epochs)"
   ]
  },
  {
   "cell_type": "code",
   "execution_count": 42,
   "metadata": {},
   "outputs": [
    {
     "data": {
      "text/plain": [
       "dict_keys(['loss', 'accuracy', 'val_loss', 'val_accuracy'])"
      ]
     },
     "execution_count": 42,
     "metadata": {},
     "output_type": "execute_result"
    }
   ],
   "source": [
    "history.history.keys()"
   ]
  },
  {
   "cell_type": "code",
   "execution_count": 43,
   "metadata": {},
   "outputs": [
    {
     "data": {
      "image/png": "[encoded data removed]",
      "text/plain": [
       "<Figure size 432x288 with 1 Axes>"
      ]
     },
     "metadata": {
      "needs_background": "light"
     },
     "output_type": "display_data"
    }
   ],
   "source": [
    "loss = history.history['loss']\n",
    "val_loss = history.history['val_loss']\n",
    "epochs = range(1, len(loss) + 1)\n",
    "\n",
    "plt.plot(epochs, loss, 'r', label='Training Loss')\n",
    "plt.plot(epochs, val_loss, 'b', label='Validation Loss')\n",
    "plt.title('Training and Validation Loss')\n",
    "plt.xlabel('Epochs')\n",
    "plt.ylabel('Loss')\n",
    "plt.legend()\n",
    "\n",
    "plt.show()"
   ]
  },
  {
   "cell_type": "code",
   "execution_count": 44,
   "metadata": {},
   "outputs": [
    {
     "data": {
      "image/png": "[encoded data removed]",
      "text/plain": [
       "<Figure size 432x288 with 1 Axes>"
      ]
     },
     "metadata": {
      "needs_background": "light"
     },
     "output_type": "display_data"
    }
   ],
   "source": [
    "plt.clf()\n",
    "\n",
    "acc = history.history['accuracy']\n",
    "val_acc = history.history['val_accuracy']\n",
    "\n",
    "plt.plot(epochs, acc, 'r', label='Training Accuracy')\n",
    "plt.plot(epochs, val_acc, 'b', label='Validation Accuracy')\n",
    "plt.title('Training and Validation Accuracy')\n",
    "plt.xlabel('Epochs')\n",
    "plt.ylabel('Loss')\n",
    "plt.legend()\n",
    "\n",
    "plt.show()"
   ]
  },
  {
   "cell_type": "code",
   "execution_count": 45,
   "metadata": {},
   "outputs": [
    {
     "name": "stdout",
     "output_type": "stream",
     "text": [
      "test acc:  0.9685368\n"
     ]
    }
   ],
   "source": [
    "test_loss, test_acc = model.evaluate(x_test, y_test, batch_size=32, verbose=0)\n",
    "print('test acc: ', test_acc)"
   ]
  },
  {
   "cell_type": "code",
   "execution_count": 46,
   "metadata": {},
   "outputs": [],
   "source": [
    "model.save(\"age_2.h5\")"
   ]
  },
  {
   "cell_type": "code",
   "execution_count": null,
   "metadata": {},
   "outputs": [],
   "source": []
  },
  {
   "cell_type": "code",
   "execution_count": 47,
   "metadata": {},
   "outputs": [],
   "source": [
    "from sklearn.metrics import accuracy_score\n",
    "from sklearn.metrics import precision_score\n",
    "from sklearn.metrics import recall_score\n",
    "from sklearn.metrics import f1_score\n",
    "from sklearn.metrics import cohen_kappa_score\n",
    "from sklearn.metrics import roc_auc_score\n",
    "from sklearn.metrics import confusion_matrix"
   ]
  },
  {
   "cell_type": "code",
   "execution_count": null,
   "metadata": {},
   "outputs": [],
   "source": [
    "new_model = tf.keras.models.load_model('age_2.h5')"
   ]
  },
  {
   "cell_type": "code",
   "execution_count": 48,
   "metadata": {},
   "outputs": [],
   "source": [
    "y_predict = model.predict_classes(x_test, batch_size=32, verbose=0)"
   ]
  },
  {
   "cell_type": "code",
   "execution_count": null,
   "metadata": {},
   "outputs": [],
   "source": [
    "y_predict[:1]"
   ]
  },
  {
   "cell_type": "code",
   "execution_count": 49,
   "metadata": {},
   "outputs": [],
   "source": [
    "y_labels = np.argmax(y_test, axis=1)"
   ]
  },
  {
   "cell_type": "code",
   "execution_count": null,
   "metadata": {},
   "outputs": [],
   "source": [
    "y_labels[:1]"
   ]
  },
  {
   "cell_type": "code",
   "execution_count": null,
   "metadata": {},
   "outputs": [],
   "source": [
    "precision = precision_score(y_labels, y_predict)\n",
    "print('Precision: %f' % precision)\n",
    "\n",
    "recall = recall_score(y_labels, y_predict)\n",
    "print('Recall: %f' % recall)\n",
    "\n",
    "f1 = f1_score(y_labels, y_predict)\n",
    "print('F1 score: %f' % f1)"
   ]
  },
  {
   "cell_type": "code",
   "execution_count": 50,
   "metadata": {},
   "outputs": [
    {
     "name": "stdout",
     "output_type": "stream",
     "text": [
      "[[334   0   0   0   0   0   0   0   0   0]\n",
      " [  0 176   7   0   0   0   0   0   0   0]\n",
      " [  0   1 863  10   0   0   0   0   0   1]\n",
      " [  0   0   4 475  16   1   0   0   0   0]\n",
      " [  0   0   0   1 225   7   0   0   0   0]\n",
      " [  0   0   0   0   1 239  13   0   0   0]\n",
      " [  0   0   0   0   0   2 131   2   0   0]\n",
      " [  0   0   0   0   0   2  11  58   1   0]\n",
      " [  0   0   0   0   0   1   1   0  46   1]\n",
      " [  0   0   0   0   0   0   0   0   0   8]]\n"
     ]
    }
   ],
   "source": [
    "cm = confusion_matrix(y_labels, y_predict)\n",
    "print(cm)"
   ]
  },
  {
   "cell_type": "markdown",
   "metadata": {},
   "source": [
    "age_classes = {0:'1-10', 1:'11-20', 2:'21-30', 3:'31-40', 4:'41-50',\n",
    "               5:'51-60', 6:'61-70', 7:'71-80', 8:'81-90', 9:'91+'}"
   ]
  },
  {
   "cell_type": "code",
   "execution_count": 51,
   "metadata": {},
   "outputs": [
    {
     "data": {
      "image/png": "[encoded data removed]",
      "text/plain": [
       "<Figure size 432x288 with 2 Axes>"
      ]
     },
     "metadata": {
      "needs_background": "light"
     },
     "output_type": "display_data"
    }
   ],
   "source": [
    "import seaborn as sns\n",
    "import matplotlib.pyplot as plt \n",
    "%matplotlib inline\n",
    "\n",
    "ax= plt.subplot()\n",
    "sns.heatmap(cm, annot=True, ax = ax, fmt='g', cmap='Greens'); #annot=True to annotate cells\n",
    "\n",
    "# labels, title and ticks\n",
    "ax.set_xlabel('Predicted labels'); ax.set_ylabel('True labels'); \n",
    "ax.set_title('Confusion Matrix'); \n",
    "ax.xaxis.set_ticklabels(['0', '1', '2', '3', '4', '5', '6', '7', '8', '9']); \n",
    "ax.yaxis.set_ticklabels(['0', '1', '2', '3', '4', '5', '6', '7', '8', '9']);"
   ]
  },
  {
   "cell_type": "code",
   "execution_count": 52,
   "metadata": {},
   "outputs": [
    {
     "data": {
      "image/png": "[encoded data removed]",
      "text/plain": [
       "<Figure size 432x288 with 2 Axes>"
      ]
     },
     "metadata": {
      "needs_background": "light"
     },
     "output_type": "display_data"
    }
   ],
   "source": [
    "# Normalized\n",
    "cmn = cm.astype('float') / cm.sum(axis=1)[:, np.newaxis]\n",
    "cmn = np.around(cmn, decimals=2)\n",
    "ax = plt.subplot()\n",
    "sns.heatmap(cmn, annot=True, ax = ax, fmt='g', cmap='Blues'); #annot=True to annotate cells\n",
    "# labels, title and ticks\n",
    "ax.set_xlabel('Predicted labels'); ax.set_ylabel('True labels'); \n",
    "ax.set_title('Normalized Confusion Matrix'); \n",
    "ax.xaxis.set_ticklabels(['0', '1', '2', '3', '4', '5', '6', '7', '8', '9']); \n",
    "ax.yaxis.set_ticklabels(['0', '1', '2', '3', '4', '5', '6', '7', '8', '9']);"
   ]
  },
  {
   "cell_type": "code",
   "execution_count": null,
   "metadata": {},
   "outputs": [],
   "source": []
  }
 ],
 "metadata": {
  "kernelspec": {
   "display_name": "Python 3",
   "language": "python",
   "name": "python3"
  },
  "language_info": {
   "codemirror_mode": {
    "name": "ipython",
    "version": 3
   },
   "file_extension": ".py",
   "mimetype": "text/x-python",
   "name": "python",
   "nbconvert_exporter": "python",
   "pygments_lexer": "ipython3",
   "version": "3.6.10"
  }
 },
 "nbformat": 4,
 "nbformat_minor": 2
}
