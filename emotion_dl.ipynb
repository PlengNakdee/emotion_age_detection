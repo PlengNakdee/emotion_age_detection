{
  "nbformat": 4,
  "nbformat_minor": 0,
  "metadata": {
    "accelerator": "GPU",
    "colab": {
      "name": "emotion_dl.ipynb",
      "provenance": [],
      "collapsed_sections": [],
      "machine_shape": "hm"
    },
    "kernelspec": {
      "name": "python3",
      "display_name": "Python 3"
    },
    "language_info": {
      "codemirror_mode": {
        "name": "ipython",
        "version": 3
      },
      "file_extension": ".py",
      "mimetype": "text/x-python",
      "name": "python",
      "nbconvert_exporter": "python",
      "pygments_lexer": "ipython3",
      "version": "3.7.6"
    }
  },
  "cells": [
    {
      "cell_type": "code",
      "metadata": {
        "colab_type": "code",
        "id": "E_8rA5Dl3WmH",
        "colab": {}
      },
      "source": [
        "import pandas as pd\n",
        "import csv\n",
        "import matplotlib.pyplot as plt\n",
        "import numpy as np\n",
        "%matplotlib inline\n",
        "import pickle\n",
        "from math import sqrt\n",
        "from PIL import Image\n",
        "import warnings\n",
        "warnings.filterwarnings('ignore')"
      ],
      "execution_count": 0,
      "outputs": []
    },
    {
      "cell_type": "code",
      "metadata": {
        "id": "0elMtKTvhD1p",
        "colab_type": "code",
        "colab": {
          "base_uri": "https://localhost:8080/",
          "height": 34
        },
        "outputId": "d460870e-6b13-4b73-a3fb-db673e28ddad"
      },
      "source": [
        "from google.colab import drive\n",
        "drive.mount('/content/gdrive')"
      ],
      "execution_count": 2,
      "outputs": [
        {
          "output_type": "stream",
          "text": [
            "Drive already mounted at /content/gdrive; to attempt to forcibly remount, call drive.mount(\"/content/gdrive\", force_remount=True).\n"
          ],
          "name": "stdout"
        }
      ]
    },
    {
      "cell_type": "code",
      "metadata": {
        "colab_type": "code",
        "id": "HCNfZ4EZWMyA",
        "colab": {}
      },
      "source": [
        "import tensorflow as tf\n",
        "from tensorflow import keras\n",
        "from tensorflow.keras.utils import to_categorical\n",
        "from tensorflow.keras import layers\n",
        "from tensorflow.keras.layers import *"
      ],
      "execution_count": 0,
      "outputs": []
    },
    {
      "cell_type": "code",
      "metadata": {
        "colab_type": "code",
        "id": "TLW6RHT_Osji",
        "colab": {}
      },
      "source": [
        "def load_data(dataset_path):\n",
        "  \n",
        "  #classes = ['Angry', 'Disgust', 'Fear', 'Happy', 'Sad', 'Surprsie', 'Neutral']  \n",
        " \n",
        "  data = []\n",
        "  test_data = []\n",
        "  test_labels = []\n",
        "  labels =[]\n",
        "\n",
        "  with open(dataset_path, 'r') as file:\n",
        "      for line_no, line in enumerate(file.readlines()):\n",
        "          if 0 < line_no <= 35887:\n",
        "            curr_class, line, set_type = line.split(',')\n",
        "            image_data = np.asarray([int(x) for x in line.split()]).reshape(48, 48)\n",
        "            #Creating a list out of the string then converting it into a 2-Dimensional numpy array.\n",
        "            image_data =image_data.astype(np.uint8)/255.0\n",
        "            \n",
        "            if (set_type.strip() == 'PrivateTest'):\n",
        "              \n",
        "              test_data.append(image_data)\n",
        "              test_labels.append(curr_class)\n",
        "            else:\n",
        "              data.append(image_data)\n",
        "              labels.append(curr_class)\n",
        "      \n",
        "      test_data = np.expand_dims(test_data, -1)\n",
        "      test_labels = to_categorical(test_labels, num_classes = 7)\n",
        "      data = np.expand_dims(data, -1)   \n",
        "      labels = to_categorical(labels, num_classes = 7)\n",
        "    \n",
        "      return np.array(data), np.array(labels), np.array(test_data), np.array(test_labels)\n",
        "    "
      ],
      "execution_count": 0,
      "outputs": []
    },
    {
      "cell_type": "code",
      "metadata": {
        "colab_type": "code",
        "id": "PnDEoX8VOsjk",
        "outputId": "3d099758-588d-4516-a6c2-76b53031ffe8",
        "colab": {
          "base_uri": "https://localhost:8080/",
          "height": 51
        }
      },
      "source": [
        "dataset_path = \"/content/gdrive/My Drive/data/fer2013.csv\" \n",
        "train_data, train_labels, test_data, test_labels = load_data(dataset_path)\n",
        "\n",
        "print(\"Number of images in Training set:\", len(train_data))\n",
        "print(\"Number of images in Test set:\", len(test_data))"
      ],
      "execution_count": 29,
      "outputs": [
        {
          "output_type": "stream",
          "text": [
            "Number of images in Training set: 32298\n",
            "Number of images in Test set: 3589\n"
          ],
          "name": "stdout"
        }
      ]
    },
    {
      "cell_type": "code",
      "metadata": {
        "colab_type": "code",
        "id": "k1ulS3NO3Wqb",
        "outputId": "9884ef68-9699-473b-fa75-670edbb6c842",
        "colab": {
          "base_uri": "https://localhost:8080/",
          "height": 34
        }
      },
      "source": [
        "# 0.1 of train data\n",
        "x_val = train_data[:3200]\n",
        "y_val = train_labels[:3200]\n",
        "x_val.shape"
      ],
      "execution_count": 30,
      "outputs": [
        {
          "output_type": "execute_result",
          "data": {
            "text/plain": [
              "(3200, 48, 48, 1)"
            ]
          },
          "metadata": {
            "tags": []
          },
          "execution_count": 30
        }
      ]
    },
    {
      "cell_type": "code",
      "metadata": {
        "colab_type": "code",
        "id": "VbTYGJbfWwkb",
        "outputId": "a8e6db81-d010-4659-d19a-ededdc95df86",
        "colab": {
          "base_uri": "https://localhost:8080/",
          "height": 833
        }
      },
      "source": [
        "model = tf.keras.Sequential()\n",
        "\n",
        "model.add(layers.Conv2D(32, (3, 3), activation='elu', padding=\"same\", input_shape=(48,48,1)))\n",
        "model.add(layers.BatchNormalization())\n",
        "model.add(layers.MaxPooling2D(pool_size=(2, 2)))\n",
        "model.add(layers.Dropout(0.2))\n",
        "\n",
        "model.add(layers.Conv2D(64, (3, 3), activation='elu', padding=\"same\"))\n",
        "model.add(layers.BatchNormalization())\n",
        "model.add(layers.MaxPooling2D(pool_size=(2, 2)))\n",
        "model.add(layers.Dropout(0.2))\n",
        "\n",
        "model.add(layers.Conv2D(128, (3, 3), activation='elu', padding=\"same\"))\n",
        "model.add(layers.BatchNormalization())\n",
        "model.add(layers.MaxPooling2D(pool_size=(2, 2)))\n",
        "model.add(layers.Dropout(0.2))\n",
        "\n",
        "model.add(layers.Conv2D(256, (3, 3), activation='elu', padding=\"same\"))\n",
        "model.add(layers.BatchNormalization())\n",
        "model.add(layers.MaxPooling2D(pool_size=(2, 2)))\n",
        "model.add(layers.Dropout(0.2))\n",
        "\n",
        "model.add(layers.Flatten())\n",
        "model.add(layers.Dense(64, activation='elu'))\n",
        "model.add(layers.Dropout(0.2))\n",
        "model.add(layers.Dense(7 , activation='softmax'))\n",
        "\n",
        "model.summary()"
      ],
      "execution_count": 33,
      "outputs": [
        {
          "output_type": "stream",
          "text": [
            "Model: \"sequential_4\"\n",
            "_________________________________________________________________\n",
            "Layer (type)                 Output Shape              Param #   \n",
            "=================================================================\n",
            "conv2d_12 (Conv2D)           (None, 48, 48, 32)        320       \n",
            "_________________________________________________________________\n",
            "batch_normalization_8 (Batch (None, 48, 48, 32)        128       \n",
            "_________________________________________________________________\n",
            "max_pooling2d_12 (MaxPooling (None, 24, 24, 32)        0         \n",
            "_________________________________________________________________\n",
            "dropout_12 (Dropout)         (None, 24, 24, 32)        0         \n",
            "_________________________________________________________________\n",
            "conv2d_13 (Conv2D)           (None, 24, 24, 64)        18496     \n",
            "_________________________________________________________________\n",
            "batch_normalization_9 (Batch (None, 24, 24, 64)        256       \n",
            "_________________________________________________________________\n",
            "max_pooling2d_13 (MaxPooling (None, 12, 12, 64)        0         \n",
            "_________________________________________________________________\n",
            "dropout_13 (Dropout)         (None, 12, 12, 64)        0         \n",
            "_________________________________________________________________\n",
            "conv2d_14 (Conv2D)           (None, 12, 12, 128)       73856     \n",
            "_________________________________________________________________\n",
            "batch_normalization_10 (Batc (None, 12, 12, 128)       512       \n",
            "_________________________________________________________________\n",
            "max_pooling2d_14 (MaxPooling (None, 6, 6, 128)         0         \n",
            "_________________________________________________________________\n",
            "dropout_14 (Dropout)         (None, 6, 6, 128)         0         \n",
            "_________________________________________________________________\n",
            "conv2d_15 (Conv2D)           (None, 6, 6, 256)         295168    \n",
            "_________________________________________________________________\n",
            "batch_normalization_11 (Batc (None, 6, 6, 256)         1024      \n",
            "_________________________________________________________________\n",
            "max_pooling2d_15 (MaxPooling (None, 3, 3, 256)         0         \n",
            "_________________________________________________________________\n",
            "dropout_15 (Dropout)         (None, 3, 3, 256)         0         \n",
            "_________________________________________________________________\n",
            "flatten_4 (Flatten)          (None, 2304)              0         \n",
            "_________________________________________________________________\n",
            "dense_8 (Dense)              (None, 64)                147520    \n",
            "_________________________________________________________________\n",
            "dropout_16 (Dropout)         (None, 64)                0         \n",
            "_________________________________________________________________\n",
            "dense_9 (Dense)              (None, 7)                 455       \n",
            "=================================================================\n",
            "Total params: 537,735\n",
            "Trainable params: 536,775\n",
            "Non-trainable params: 960\n",
            "_________________________________________________________________\n"
          ],
          "name": "stdout"
        }
      ]
    },
    {
      "cell_type": "code",
      "metadata": {
        "colab_type": "code",
        "id": "5uSbFNzyZvmz",
        "colab": {}
      },
      "source": [
        "batch_size = 32\n",
        "epochs = 50\n",
        "\n",
        "callback = tf.keras.callbacks.EarlyStopping(monitor='acc', patience=2)\n",
        "model.compile(optimizer=tf.keras.optimizers.Adam(lr=0.0001),\n",
        "             loss=tf.keras.losses.categorical_crossentropy,\n",
        "             metrics=['accuracy'])"
      ],
      "execution_count": 0,
      "outputs": []
    },
    {
      "cell_type": "code",
      "metadata": {
        "id": "0IV0rxYujSyY",
        "colab_type": "code",
        "colab": {
          "base_uri": "https://localhost:8080/",
          "height": 1000
        },
        "outputId": "7a9a4a37-0daa-4c79-e4e8-0393fc5f90e8"
      },
      "source": [
        "history = model.fit(train_data, train_labels, \n",
        "                    batch_size=batch_size,\n",
        "                    callbacks=[callback],\n",
        "                    validation_data=(x_val, y_val),\n",
        "                    epochs = epochs)"
      ],
      "execution_count": 35,
      "outputs": [
        {
          "output_type": "stream",
          "text": [
            "Train on 32298 samples, validate on 3200 samples\n",
            "Epoch 1/50\n",
            "32298/32298 [==============================] - 8s 238us/sample - loss: 1.9534 - acc: 0.2541 - val_loss: 1.6821 - val_acc: 0.3753\n",
            "Epoch 2/50\n",
            "32298/32298 [==============================] - 7s 214us/sample - loss: 1.7235 - acc: 0.3363 - val_loss: 1.5485 - val_acc: 0.4256\n",
            "Epoch 3/50\n",
            "32298/32298 [==============================] - 7s 214us/sample - loss: 1.6139 - acc: 0.3781 - val_loss: 1.5259 - val_acc: 0.4462\n",
            "Epoch 4/50\n",
            "32298/32298 [==============================] - 7s 215us/sample - loss: 1.5410 - acc: 0.4072 - val_loss: 1.4001 - val_acc: 0.4784\n",
            "Epoch 5/50\n",
            "32298/32298 [==============================] - 7s 213us/sample - loss: 1.4750 - acc: 0.4333 - val_loss: 1.3043 - val_acc: 0.5113\n",
            "Epoch 6/50\n",
            "32298/32298 [==============================] - 7s 215us/sample - loss: 1.4134 - acc: 0.4580 - val_loss: 1.2430 - val_acc: 0.5319\n",
            "Epoch 7/50\n",
            "32298/32298 [==============================] - 7s 215us/sample - loss: 1.3691 - acc: 0.4742 - val_loss: 1.2011 - val_acc: 0.5500\n",
            "Epoch 8/50\n",
            "32298/32298 [==============================] - 7s 214us/sample - loss: 1.3296 - acc: 0.4891 - val_loss: 1.1543 - val_acc: 0.5703\n",
            "Epoch 9/50\n",
            "32298/32298 [==============================] - 7s 217us/sample - loss: 1.2873 - acc: 0.5077 - val_loss: 1.1733 - val_acc: 0.5650\n",
            "Epoch 10/50\n",
            "32298/32298 [==============================] - 7s 214us/sample - loss: 1.2466 - acc: 0.5242 - val_loss: 1.0804 - val_acc: 0.5925\n",
            "Epoch 11/50\n",
            "32298/32298 [==============================] - 7s 213us/sample - loss: 1.2152 - acc: 0.5378 - val_loss: 1.0334 - val_acc: 0.6203\n",
            "Epoch 12/50\n",
            "32298/32298 [==============================] - 7s 214us/sample - loss: 1.1834 - acc: 0.5495 - val_loss: 1.0500 - val_acc: 0.6100\n",
            "Epoch 13/50\n",
            "32298/32298 [==============================] - 7s 212us/sample - loss: 1.1491 - acc: 0.5626 - val_loss: 0.9748 - val_acc: 0.6347\n",
            "Epoch 14/50\n",
            "32298/32298 [==============================] - 7s 213us/sample - loss: 1.1214 - acc: 0.5762 - val_loss: 0.9440 - val_acc: 0.6506\n",
            "Epoch 15/50\n",
            "32298/32298 [==============================] - 7s 214us/sample - loss: 1.0969 - acc: 0.5815 - val_loss: 0.9183 - val_acc: 0.6547\n",
            "Epoch 16/50\n",
            "32298/32298 [==============================] - 7s 213us/sample - loss: 1.0730 - acc: 0.5933 - val_loss: 0.9096 - val_acc: 0.6603\n",
            "Epoch 17/50\n",
            "32298/32298 [==============================] - 7s 211us/sample - loss: 1.0481 - acc: 0.6036 - val_loss: 0.8477 - val_acc: 0.6862\n",
            "Epoch 18/50\n",
            "32298/32298 [==============================] - 7s 218us/sample - loss: 1.0297 - acc: 0.6095 - val_loss: 0.8266 - val_acc: 0.6966\n",
            "Epoch 19/50\n",
            "32298/32298 [==============================] - 7s 218us/sample - loss: 0.9995 - acc: 0.6220 - val_loss: 0.7864 - val_acc: 0.7113\n",
            "Epoch 20/50\n",
            "32298/32298 [==============================] - 7s 224us/sample - loss: 0.9825 - acc: 0.6281 - val_loss: 0.7805 - val_acc: 0.7091\n",
            "Epoch 21/50\n",
            "32298/32298 [==============================] - 7s 219us/sample - loss: 0.9550 - acc: 0.6388 - val_loss: 0.7356 - val_acc: 0.7378\n",
            "Epoch 22/50\n",
            "32298/32298 [==============================] - 7s 213us/sample - loss: 0.9309 - acc: 0.6469 - val_loss: 0.7169 - val_acc: 0.7369\n",
            "Epoch 23/50\n",
            "32298/32298 [==============================] - 7s 214us/sample - loss: 0.9101 - acc: 0.6574 - val_loss: 0.6752 - val_acc: 0.7600\n",
            "Epoch 24/50\n",
            "32298/32298 [==============================] - 7s 212us/sample - loss: 0.8945 - acc: 0.6624 - val_loss: 0.6412 - val_acc: 0.7666\n",
            "Epoch 25/50\n",
            "32298/32298 [==============================] - 7s 212us/sample - loss: 0.8752 - acc: 0.6709 - val_loss: 0.6252 - val_acc: 0.7841\n",
            "Epoch 26/50\n",
            "32298/32298 [==============================] - 7s 215us/sample - loss: 0.8529 - acc: 0.6793 - val_loss: 0.5856 - val_acc: 0.7962\n",
            "Epoch 27/50\n",
            "32298/32298 [==============================] - 7s 214us/sample - loss: 0.8336 - acc: 0.6875 - val_loss: 0.6226 - val_acc: 0.7806\n",
            "Epoch 28/50\n",
            "32298/32298 [==============================] - 7s 211us/sample - loss: 0.8078 - acc: 0.6952 - val_loss: 0.5485 - val_acc: 0.8131\n",
            "Epoch 29/50\n",
            "32298/32298 [==============================] - 7s 212us/sample - loss: 0.7939 - acc: 0.7009 - val_loss: 0.5231 - val_acc: 0.8209\n",
            "Epoch 30/50\n",
            "32298/32298 [==============================] - 7s 214us/sample - loss: 0.7824 - acc: 0.7076 - val_loss: 0.5073 - val_acc: 0.8281\n",
            "Epoch 31/50\n",
            "32298/32298 [==============================] - 7s 213us/sample - loss: 0.7561 - acc: 0.7155 - val_loss: 0.4819 - val_acc: 0.8419\n",
            "Epoch 32/50\n",
            "32298/32298 [==============================] - 7s 215us/sample - loss: 0.7548 - acc: 0.7174 - val_loss: 0.4632 - val_acc: 0.8487\n",
            "Epoch 33/50\n",
            "32298/32298 [==============================] - 7s 212us/sample - loss: 0.7223 - acc: 0.7299 - val_loss: 0.4187 - val_acc: 0.8716\n",
            "Epoch 34/50\n",
            "32298/32298 [==============================] - 7s 212us/sample - loss: 0.7114 - acc: 0.7322 - val_loss: 0.4274 - val_acc: 0.8606\n",
            "Epoch 35/50\n",
            "32298/32298 [==============================] - 7s 214us/sample - loss: 0.6961 - acc: 0.7413 - val_loss: 0.3863 - val_acc: 0.8756\n",
            "Epoch 36/50\n",
            "32298/32298 [==============================] - 7s 214us/sample - loss: 0.6836 - acc: 0.7455 - val_loss: 0.3702 - val_acc: 0.8850\n",
            "Epoch 37/50\n",
            "32298/32298 [==============================] - 7s 212us/sample - loss: 0.6652 - acc: 0.7534 - val_loss: 0.3436 - val_acc: 0.8925\n",
            "Epoch 38/50\n",
            "32298/32298 [==============================] - 7s 213us/sample - loss: 0.6524 - acc: 0.7558 - val_loss: 0.3417 - val_acc: 0.9016\n",
            "Epoch 39/50\n",
            "32298/32298 [==============================] - 7s 211us/sample - loss: 0.6413 - acc: 0.7608 - val_loss: 0.3169 - val_acc: 0.9181\n",
            "Epoch 40/50\n",
            "32298/32298 [==============================] - 7s 212us/sample - loss: 0.6207 - acc: 0.7699 - val_loss: 0.2987 - val_acc: 0.9187\n",
            "Epoch 41/50\n",
            "32298/32298 [==============================] - 7s 214us/sample - loss: 0.6054 - acc: 0.7737 - val_loss: 0.2824 - val_acc: 0.9222\n",
            "Epoch 42/50\n",
            "32298/32298 [==============================] - 7s 212us/sample - loss: 0.5899 - acc: 0.7809 - val_loss: 0.2687 - val_acc: 0.9256\n",
            "Epoch 43/50\n",
            "32298/32298 [==============================] - 7s 213us/sample - loss: 0.5834 - acc: 0.7819 - val_loss: 0.2452 - val_acc: 0.9378\n",
            "Epoch 44/50\n",
            "32298/32298 [==============================] - 7s 215us/sample - loss: 0.5681 - acc: 0.7873 - val_loss: 0.2378 - val_acc: 0.9350\n",
            "Epoch 45/50\n",
            "32298/32298 [==============================] - 7s 214us/sample - loss: 0.5592 - acc: 0.7897 - val_loss: 0.2151 - val_acc: 0.9466\n",
            "Epoch 46/50\n",
            "32298/32298 [==============================] - 7s 213us/sample - loss: 0.5454 - acc: 0.7960 - val_loss: 0.2195 - val_acc: 0.9484\n",
            "Epoch 47/50\n",
            "32298/32298 [==============================] - 7s 212us/sample - loss: 0.5369 - acc: 0.8022 - val_loss: 0.2110 - val_acc: 0.9444\n",
            "Epoch 48/50\n",
            "32298/32298 [==============================] - 7s 211us/sample - loss: 0.5262 - acc: 0.8042 - val_loss: 0.1951 - val_acc: 0.9481\n",
            "Epoch 49/50\n",
            "32298/32298 [==============================] - 7s 212us/sample - loss: 0.5163 - acc: 0.8072 - val_loss: 0.1866 - val_acc: 0.9584\n",
            "Epoch 50/50\n",
            "32298/32298 [==============================] - 7s 212us/sample - loss: 0.5079 - acc: 0.8134 - val_loss: 0.1665 - val_acc: 0.9613\n"
          ],
          "name": "stdout"
        }
      ]
    },
    {
      "cell_type": "code",
      "metadata": {
        "colab_type": "code",
        "id": "VAwgQb0o3Wqn",
        "outputId": "1b1d21bd-971a-4c24-edd2-6381ff7e628e",
        "colab": {
          "base_uri": "https://localhost:8080/",
          "height": 34
        }
      },
      "source": [
        "history.history.keys()"
      ],
      "execution_count": 36,
      "outputs": [
        {
          "output_type": "execute_result",
          "data": {
            "text/plain": [
              "dict_keys(['loss', 'acc', 'val_loss', 'val_acc'])"
            ]
          },
          "metadata": {
            "tags": []
          },
          "execution_count": 36
        }
      ]
    },
    {
      "cell_type": "code",
      "metadata": {
        "colab_type": "code",
        "id": "HEoGBah33Wqq",
        "outputId": "c318bbcc-3e22-4864-a724-6b0ee3fab809",
        "colab": {
          "base_uri": "https://localhost:8080/",
          "height": 295
        }
      },
      "source": [
        "loss = history.history['loss']\n",
        "val_loss = history.history['val_loss']\n",
        "epochs = range(1, len(loss) + 1)\n",
        "\n",
        "plt.plot(epochs, loss, 'r', label='Training Loss')\n",
        "plt.plot(epochs, val_loss, 'b', label='Validation Loss')\n",
        "plt.title('Training and Validation Loss')\n",
        "plt.xlabel('Epochs')\n",
        "plt.ylabel('Loss')\n",
        "plt.legend()\n",
        "\n",
        "plt.show()"
      ],
      "execution_count": 37,
      "outputs": [
        {
          "output_type": "display_data",
          "data": {
            "image/png": "[encoded data removed]",
            "text/plain": [
              "<Figure size 432x288 with 1 Axes>"
            ]
          },
          "metadata": {
            "tags": []
          }
        }
      ]
    },
    {
      "cell_type": "code",
      "metadata": {
        "colab_type": "code",
        "id": "HWjdHR_O3Wqs",
        "outputId": "4b203399-5a94-4dda-f3c7-d70191275dbe",
        "colab": {
          "base_uri": "https://localhost:8080/",
          "height": 295
        }
      },
      "source": [
        "plt.clf() #clear previous plot\n",
        "\n",
        "acc = history.history['acc']\n",
        "val_acc = history.history['val_acc']\n",
        "\n",
        "plt.plot(epochs, acc, 'r', label='Training Accuracy')\n",
        "plt.plot(epochs, val_acc, 'b', label='Validation Accuracy')\n",
        "plt.title('Training and Validation Accuracy')\n",
        "plt.xlabel('Epochs')\n",
        "plt.ylabel('Loss')\n",
        "plt.legend()\n",
        "\n",
        "plt.show()"
      ],
      "execution_count": 38,
      "outputs": [
        {
          "output_type": "display_data",
          "data": {
            "image/png": "[encoded data removed]",
            "text/plain": [
              "<Figure size 432x288 with 1 Axes>"
            ]
          },
          "metadata": {
            "tags": []
          }
        }
      ]
    },
    {
      "cell_type": "code",
      "metadata": {
        "colab_type": "code",
        "id": "y1bsiGQS7mM5",
        "outputId": "587d10c6-bb5d-448f-be2e-a6135461e46b",
        "colab": {
          "base_uri": "https://localhost:8080/",
          "height": 51
        }
      },
      "source": [
        "test_loss, test_acc = model.evaluate(test_data, test_labels, batch_size=32)\n",
        "print('test acc: ', test_acc)"
      ],
      "execution_count": 39,
      "outputs": [
        {
          "output_type": "stream",
          "text": [
            "3589/3589 [==============================] - 0s 92us/sample - loss: 1.1783 - acc: 0.6358\n",
            "test acc:  0.6358317\n"
          ],
          "name": "stdout"
        }
      ]
    },
    {
      "cell_type": "code",
      "metadata": {
        "colab_type": "code",
        "id": "n7coGiMfCR4w",
        "colab": {}
      },
      "source": [
        "model.save(\"/content/gdrive/My Drive/data/emotion_2.h5\")"
      ],
      "execution_count": 0,
      "outputs": []
    }
  ]
}